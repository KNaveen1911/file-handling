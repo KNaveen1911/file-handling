{
 "cells": [
  {
   "cell_type": "raw",
   "id": "5bc5220d",
   "metadata": {},
   "source": [
    "file handling\n",
    "'''\n",
    "1.read  (r)\n",
    "2.write (w)\n",
    "3.append  (a)\n",
    "4.w+  ==write and read\n",
    "5.a+ == append and read\n",
    "'''"
   ]
  },
  {
   "cell_type": "markdown",
   "id": "2501ccfa",
   "metadata": {},
   "source": [
    "#####  Reading a file"
   ]
  },
  {
   "cell_type": "code",
   "execution_count": 1,
   "id": "e39ac97e",
   "metadata": {},
   "outputs": [],
   "source": [
    "f=open(\"file1.txt\",\"r\")"
   ]
  },
  {
   "cell_type": "code",
   "execution_count": 2,
   "id": "0771b04e",
   "metadata": {},
   "outputs": [
    {
     "name": "stdout",
     "output_type": "stream",
     "text": [
      " My Name is Kuruva Naveen \n",
      " I have completed graduation in 2021 along with the course of python developer in aditi digital solutions\n",
      " i have completed my course at december 2021\n",
      "right now iam searching for the job oppourtiny\n"
     ]
    }
   ],
   "source": [
    "print(f.read())"
   ]
  },
  {
   "cell_type": "code",
   "execution_count": 3,
   "id": "1347641f",
   "metadata": {},
   "outputs": [
    {
     "name": "stdout",
     "output_type": "stream",
     "text": [
      "\n"
     ]
    }
   ],
   "source": [
    "print(f.readline())"
   ]
  },
  {
   "cell_type": "code",
   "execution_count": 4,
   "id": "47523df9",
   "metadata": {},
   "outputs": [
    {
     "name": "stdout",
     "output_type": "stream",
     "text": [
      "\n"
     ]
    }
   ],
   "source": [
    "print(f.read(5))"
   ]
  },
  {
   "cell_type": "markdown",
   "id": "6c58a260",
   "metadata": {},
   "source": [
    "### writing a file\n",
    "1.if the file exists,then the content in the file will be eraised and new data will be written\n",
    "\n",
    "2.if the file doesnot exists,then it creates the  new file\n"
   ]
  },
  {
   "cell_type": "raw",
   "id": "43cab12d",
   "metadata": {},
   "source": [
    "if i give  \"file1.txt\" this file name the data will be deleted in \n",
    "and add this given data will be printed"
   ]
  },
  {
   "cell_type": "code",
   "execution_count": 5,
   "id": "e7d6a443",
   "metadata": {},
   "outputs": [],
   "source": [
    "f=open(\"writefile.txt\",\"w\")"
   ]
  },
  {
   "cell_type": "code",
   "execution_count": 6,
   "id": "af950eab",
   "metadata": {},
   "outputs": [
    {
     "data": {
      "text/plain": [
       "29"
      ]
     },
     "execution_count": 6,
     "metadata": {},
     "output_type": "execute_result"
    }
   ],
   "source": [
    "f.write(\" my father name is k.krishna\\n\")"
   ]
  },
  {
   "cell_type": "code",
   "execution_count": 7,
   "id": "1342e1ea",
   "metadata": {},
   "outputs": [
    {
     "data": {
      "text/plain": [
       "33"
      ]
     },
     "execution_count": 7,
     "metadata": {},
     "output_type": "execute_result"
    }
   ],
   "source": [
    "f.write(\"learning tha data science course\\n\")\n"
   ]
  },
  {
   "cell_type": "code",
   "execution_count": 8,
   "id": "807988a0",
   "metadata": {},
   "outputs": [
    {
     "data": {
      "text/plain": [
       "45"
      ]
     },
     "execution_count": 8,
     "metadata": {},
     "output_type": "execute_result"
    }
   ],
   "source": [
    "f.write(\"in aditi digital solutions from past 8 months\")"
   ]
  },
  {
   "cell_type": "code",
   "execution_count": 9,
   "id": "a6291972",
   "metadata": {},
   "outputs": [],
   "source": [
    "f.close()"
   ]
  },
  {
   "cell_type": "markdown",
   "id": "a6127b8b",
   "metadata": {},
   "source": [
    "### Appending the file\n",
    "data added in the above file"
   ]
  },
  {
   "cell_type": "code",
   "execution_count": 10,
   "id": "53020fc5",
   "metadata": {},
   "outputs": [],
   "source": [
    "f=open(\"file1.txt\",\"a\")"
   ]
  },
  {
   "cell_type": "code",
   "execution_count": 11,
   "id": "17ff01f8",
   "metadata": {},
   "outputs": [
    {
     "data": {
      "text/plain": [
       "46"
      ]
     },
     "execution_count": 11,
     "metadata": {},
     "output_type": "execute_result"
    }
   ],
   "source": [
    "f.write(\"\\n i have completed my course at december 2021\\n\")"
   ]
  },
  {
   "cell_type": "code",
   "execution_count": 12,
   "id": "75e3fbce",
   "metadata": {},
   "outputs": [
    {
     "data": {
      "text/plain": [
       "46"
      ]
     },
     "execution_count": 12,
     "metadata": {},
     "output_type": "execute_result"
    }
   ],
   "source": [
    "f.write(\"right now iam searching for the job oppourtiny\")"
   ]
  },
  {
   "cell_type": "code",
   "execution_count": 13,
   "id": "faefbae3",
   "metadata": {},
   "outputs": [],
   "source": [
    "f.close()"
   ]
  },
  {
   "cell_type": "code",
   "execution_count": null,
   "id": "1357292b",
   "metadata": {},
   "outputs": [],
   "source": []
  }
 ],
 "metadata": {
  "kernelspec": {
   "display_name": "Python 3 (ipykernel)",
   "language": "python",
   "name": "python3"
  },
  "language_info": {
   "codemirror_mode": {
    "name": "ipython",
    "version": 3
   },
   "file_extension": ".py",
   "mimetype": "text/x-python",
   "name": "python",
   "nbconvert_exporter": "python",
   "pygments_lexer": "ipython3",
   "version": "3.9.7"
  }
 },
 "nbformat": 4,
 "nbformat_minor": 5
}
